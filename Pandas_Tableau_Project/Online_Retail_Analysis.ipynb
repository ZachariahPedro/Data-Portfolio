{
 "cells": [
  {
   "cell_type": "markdown",
   "id": "9519c24a",
   "metadata": {},
   "source": [
    "# Welcome to my Online Retail Analysis Notebook"
   ]
  },
  {
   "cell_type": "markdown",
   "id": "e9f1c114",
   "metadata": {},
   "source": [
    "If you haven't done so already, download [the data](https://www.kaggle.com/datasets/lakshmi25npathi/online-retail-dataset)\n",
    "\n",
    "Place the `online_retail_II.xlsx` in the Pandas_Tableau_Project folder"
   ]
  },
  {
   "cell_type": "markdown",
   "id": "a45a5ce6",
   "metadata": {},
   "source": [
    "## Setting Up"
   ]
  },
  {
   "cell_type": "code",
   "execution_count": 122,
   "id": "5d600395",
   "metadata": {},
   "outputs": [
    {
     "name": "stdout",
     "output_type": "stream",
     "text": [
      "Note: you may need to restart the kernel to use updated packages.\n"
     ]
    }
   ],
   "source": [
    "pip install pandas openpyxl matplotlib -q"
   ]
  },
  {
   "cell_type": "code",
   "execution_count": 123,
   "id": "68ff7f53",
   "metadata": {},
   "outputs": [],
   "source": [
    "import pandas as pd\n",
    "import openpyxl\n",
    "import matplotlib as plt"
   ]
  },
  {
   "cell_type": "markdown",
   "id": "22c54f36",
   "metadata": {},
   "source": [
    "#### load"
   ]
  },
  {
   "cell_type": "code",
   "execution_count": 124,
   "id": "47a24e31",
   "metadata": {},
   "outputs": [
    {
     "data": {
      "text/html": [
       "<div>\n",
       "<style scoped>\n",
       "    .dataframe tbody tr th:only-of-type {\n",
       "        vertical-align: middle;\n",
       "    }\n",
       "\n",
       "    .dataframe tbody tr th {\n",
       "        vertical-align: top;\n",
       "    }\n",
       "\n",
       "    .dataframe thead th {\n",
       "        text-align: right;\n",
       "    }\n",
       "</style>\n",
       "<table border=\"1\" class=\"dataframe\">\n",
       "  <thead>\n",
       "    <tr style=\"text-align: right;\">\n",
       "      <th></th>\n",
       "      <th>Invoice</th>\n",
       "      <th>StockCode</th>\n",
       "      <th>Description</th>\n",
       "      <th>Quantity</th>\n",
       "      <th>InvoiceDate</th>\n",
       "      <th>Price</th>\n",
       "      <th>Customer ID</th>\n",
       "      <th>Country</th>\n",
       "    </tr>\n",
       "  </thead>\n",
       "  <tbody>\n",
       "    <tr>\n",
       "      <th>0</th>\n",
       "      <td>489434</td>\n",
       "      <td>85048</td>\n",
       "      <td>15CM CHRISTMAS GLASS BALL 20 LIGHTS</td>\n",
       "      <td>12</td>\n",
       "      <td>2009-12-01 07:45:00</td>\n",
       "      <td>6.95</td>\n",
       "      <td>13085.0</td>\n",
       "      <td>United Kingdom</td>\n",
       "    </tr>\n",
       "    <tr>\n",
       "      <th>1</th>\n",
       "      <td>489434</td>\n",
       "      <td>79323P</td>\n",
       "      <td>PINK CHERRY LIGHTS</td>\n",
       "      <td>12</td>\n",
       "      <td>2009-12-01 07:45:00</td>\n",
       "      <td>6.75</td>\n",
       "      <td>13085.0</td>\n",
       "      <td>United Kingdom</td>\n",
       "    </tr>\n",
       "    <tr>\n",
       "      <th>2</th>\n",
       "      <td>489434</td>\n",
       "      <td>79323W</td>\n",
       "      <td>WHITE CHERRY LIGHTS</td>\n",
       "      <td>12</td>\n",
       "      <td>2009-12-01 07:45:00</td>\n",
       "      <td>6.75</td>\n",
       "      <td>13085.0</td>\n",
       "      <td>United Kingdom</td>\n",
       "    </tr>\n",
       "    <tr>\n",
       "      <th>3</th>\n",
       "      <td>489434</td>\n",
       "      <td>22041</td>\n",
       "      <td>RECORD FRAME 7\" SINGLE SIZE</td>\n",
       "      <td>48</td>\n",
       "      <td>2009-12-01 07:45:00</td>\n",
       "      <td>2.10</td>\n",
       "      <td>13085.0</td>\n",
       "      <td>United Kingdom</td>\n",
       "    </tr>\n",
       "    <tr>\n",
       "      <th>4</th>\n",
       "      <td>489434</td>\n",
       "      <td>21232</td>\n",
       "      <td>STRAWBERRY CERAMIC TRINKET BOX</td>\n",
       "      <td>24</td>\n",
       "      <td>2009-12-01 07:45:00</td>\n",
       "      <td>1.25</td>\n",
       "      <td>13085.0</td>\n",
       "      <td>United Kingdom</td>\n",
       "    </tr>\n",
       "    <tr>\n",
       "      <th>...</th>\n",
       "      <td>...</td>\n",
       "      <td>...</td>\n",
       "      <td>...</td>\n",
       "      <td>...</td>\n",
       "      <td>...</td>\n",
       "      <td>...</td>\n",
       "      <td>...</td>\n",
       "      <td>...</td>\n",
       "    </tr>\n",
       "    <tr>\n",
       "      <th>525456</th>\n",
       "      <td>538171</td>\n",
       "      <td>22271</td>\n",
       "      <td>FELTCRAFT DOLL ROSIE</td>\n",
       "      <td>2</td>\n",
       "      <td>2010-12-09 20:01:00</td>\n",
       "      <td>2.95</td>\n",
       "      <td>17530.0</td>\n",
       "      <td>United Kingdom</td>\n",
       "    </tr>\n",
       "    <tr>\n",
       "      <th>525457</th>\n",
       "      <td>538171</td>\n",
       "      <td>22750</td>\n",
       "      <td>FELTCRAFT PRINCESS LOLA DOLL</td>\n",
       "      <td>1</td>\n",
       "      <td>2010-12-09 20:01:00</td>\n",
       "      <td>3.75</td>\n",
       "      <td>17530.0</td>\n",
       "      <td>United Kingdom</td>\n",
       "    </tr>\n",
       "    <tr>\n",
       "      <th>525458</th>\n",
       "      <td>538171</td>\n",
       "      <td>22751</td>\n",
       "      <td>FELTCRAFT PRINCESS OLIVIA DOLL</td>\n",
       "      <td>1</td>\n",
       "      <td>2010-12-09 20:01:00</td>\n",
       "      <td>3.75</td>\n",
       "      <td>17530.0</td>\n",
       "      <td>United Kingdom</td>\n",
       "    </tr>\n",
       "    <tr>\n",
       "      <th>525459</th>\n",
       "      <td>538171</td>\n",
       "      <td>20970</td>\n",
       "      <td>PINK FLORAL FELTCRAFT SHOULDER BAG</td>\n",
       "      <td>2</td>\n",
       "      <td>2010-12-09 20:01:00</td>\n",
       "      <td>3.75</td>\n",
       "      <td>17530.0</td>\n",
       "      <td>United Kingdom</td>\n",
       "    </tr>\n",
       "    <tr>\n",
       "      <th>525460</th>\n",
       "      <td>538171</td>\n",
       "      <td>21931</td>\n",
       "      <td>JUMBO STORAGE BAG SUKI</td>\n",
       "      <td>2</td>\n",
       "      <td>2010-12-09 20:01:00</td>\n",
       "      <td>1.95</td>\n",
       "      <td>17530.0</td>\n",
       "      <td>United Kingdom</td>\n",
       "    </tr>\n",
       "  </tbody>\n",
       "</table>\n",
       "<p>525461 rows × 8 columns</p>\n",
       "</div>"
      ],
      "text/plain": [
       "       Invoice StockCode                          Description  Quantity  \\\n",
       "0       489434     85048  15CM CHRISTMAS GLASS BALL 20 LIGHTS        12   \n",
       "1       489434    79323P                   PINK CHERRY LIGHTS        12   \n",
       "2       489434    79323W                  WHITE CHERRY LIGHTS        12   \n",
       "3       489434     22041         RECORD FRAME 7\" SINGLE SIZE         48   \n",
       "4       489434     21232       STRAWBERRY CERAMIC TRINKET BOX        24   \n",
       "...        ...       ...                                  ...       ...   \n",
       "525456  538171     22271                 FELTCRAFT DOLL ROSIE         2   \n",
       "525457  538171     22750         FELTCRAFT PRINCESS LOLA DOLL         1   \n",
       "525458  538171     22751       FELTCRAFT PRINCESS OLIVIA DOLL         1   \n",
       "525459  538171     20970   PINK FLORAL FELTCRAFT SHOULDER BAG         2   \n",
       "525460  538171     21931               JUMBO STORAGE BAG SUKI         2   \n",
       "\n",
       "               InvoiceDate  Price  Customer ID         Country  \n",
       "0      2009-12-01 07:45:00   6.95      13085.0  United Kingdom  \n",
       "1      2009-12-01 07:45:00   6.75      13085.0  United Kingdom  \n",
       "2      2009-12-01 07:45:00   6.75      13085.0  United Kingdom  \n",
       "3      2009-12-01 07:45:00   2.10      13085.0  United Kingdom  \n",
       "4      2009-12-01 07:45:00   1.25      13085.0  United Kingdom  \n",
       "...                    ...    ...          ...             ...  \n",
       "525456 2010-12-09 20:01:00   2.95      17530.0  United Kingdom  \n",
       "525457 2010-12-09 20:01:00   3.75      17530.0  United Kingdom  \n",
       "525458 2010-12-09 20:01:00   3.75      17530.0  United Kingdom  \n",
       "525459 2010-12-09 20:01:00   3.75      17530.0  United Kingdom  \n",
       "525460 2010-12-09 20:01:00   1.95      17530.0  United Kingdom  \n",
       "\n",
       "[525461 rows x 8 columns]"
      ]
     },
     "execution_count": 124,
     "metadata": {},
     "output_type": "execute_result"
    }
   ],
   "source": [
    "df = pd.read_excel('../Pandas_Tableau_Project/online_retail_II.xlsx')\n",
    "df"
   ]
  },
  {
   "cell_type": "code",
   "execution_count": 125,
   "id": "834cf555",
   "metadata": {},
   "outputs": [
    {
     "data": {
      "text/plain": [
       "Invoice                object\n",
       "StockCode              object\n",
       "Description            object\n",
       "Quantity                int64\n",
       "InvoiceDate    datetime64[ns]\n",
       "Price                 float64\n",
       "Customer ID           float64\n",
       "Country                object\n",
       "dtype: object"
      ]
     },
     "execution_count": 125,
     "metadata": {},
     "output_type": "execute_result"
    }
   ],
   "source": [
    "df.dtypes"
   ]
  },
  {
   "cell_type": "markdown",
   "id": "07ffe336",
   "metadata": {},
   "source": [
    "## Cleaning"
   ]
  },
  {
   "cell_type": "markdown",
   "id": "34bd6a26",
   "metadata": {},
   "source": [
    "#### Remove nulls"
   ]
  },
  {
   "cell_type": "code",
   "execution_count": 126,
   "id": "583740ec",
   "metadata": {},
   "outputs": [],
   "source": [
    "df = df.dropna(subset=['Customer ID']) \\\n",
    "    .reset_index(drop=True).copy()"
   ]
  },
  {
   "cell_type": "markdown",
   "id": "fdf85c42",
   "metadata": {},
   "source": [
    "#### Remove duplicates"
   ]
  },
  {
   "cell_type": "code",
   "execution_count": 127,
   "id": "62d0a635",
   "metadata": {},
   "outputs": [],
   "source": [
    "df = df.loc[~df.duplicated()] \\\n",
    "    .reset_index(drop=True).copy()"
   ]
  },
  {
   "cell_type": "markdown",
   "id": "cd93c282",
   "metadata": {},
   "source": [
    "#### Checking for duplicated descriptions"
   ]
  },
  {
   "cell_type": "code",
   "execution_count": 128,
   "id": "b6b618b8",
   "metadata": {},
   "outputs": [
    {
     "data": {
      "text/plain": [
       "(424, 2)"
      ]
     },
     "execution_count": 128,
     "metadata": {},
     "output_type": "execute_result"
    }
   ],
   "source": [
    "desc_counts = (df.groupby('StockCode')['Description']\n",
    "                 .nunique()\n",
    "                 .reset_index(name='n_desc'))\n",
    "stock_dupes = desc_counts.loc[desc_counts['n_desc']>1]\n",
    "stock_dupes.shape"
   ]
  },
  {
   "cell_type": "markdown",
   "id": "d9e991f8",
   "metadata": {},
   "source": [
    "there are 424 codes with multiple names, so we'll group by our stock codes instead"
   ]
  },
  {
   "cell_type": "markdown",
   "id": "4cf4f43d",
   "metadata": {},
   "source": [
    "## Identify Top Items By Revenue "
   ]
  },
  {
   "cell_type": "markdown",
   "id": "63522382",
   "metadata": {},
   "source": [
    "#### Make a Revenue Column"
   ]
  },
  {
   "cell_type": "code",
   "execution_count": 129,
   "id": "bf92fb9c",
   "metadata": {},
   "outputs": [],
   "source": [
    "df['Revenue'] = df['Quantity'] * df['Price']"
   ]
  },
  {
   "cell_type": "markdown",
   "id": "497e8593",
   "metadata": {},
   "source": [
    "#### Create a table to see top 10 earners by revenue"
   ]
  },
  {
   "cell_type": "code",
   "execution_count": 130,
   "id": "b5717a57",
   "metadata": {},
   "outputs": [
    {
     "data": {
      "text/html": [
       "<div>\n",
       "<style scoped>\n",
       "    .dataframe tbody tr th:only-of-type {\n",
       "        vertical-align: middle;\n",
       "    }\n",
       "\n",
       "    .dataframe tbody tr th {\n",
       "        vertical-align: top;\n",
       "    }\n",
       "\n",
       "    .dataframe thead th {\n",
       "        text-align: right;\n",
       "    }\n",
       "</style>\n",
       "<table border=\"1\" class=\"dataframe\">\n",
       "  <thead>\n",
       "    <tr style=\"text-align: right;\">\n",
       "      <th></th>\n",
       "      <th>StockCode</th>\n",
       "      <th>Units</th>\n",
       "      <th>Total_Revenue</th>\n",
       "    </tr>\n",
       "  </thead>\n",
       "  <tbody>\n",
       "    <tr>\n",
       "      <th>0</th>\n",
       "      <td>85123A</td>\n",
       "      <td>55760</td>\n",
       "      <td>148591.51</td>\n",
       "    </tr>\n",
       "    <tr>\n",
       "      <th>1</th>\n",
       "      <td>22423</td>\n",
       "      <td>11878</td>\n",
       "      <td>136700.55</td>\n",
       "    </tr>\n",
       "    <tr>\n",
       "      <th>2</th>\n",
       "      <td>85099B</td>\n",
       "      <td>48629</td>\n",
       "      <td>85065.15</td>\n",
       "    </tr>\n",
       "    <tr>\n",
       "      <th>3</th>\n",
       "      <td>84879</td>\n",
       "      <td>44000</td>\n",
       "      <td>69652.16</td>\n",
       "    </tr>\n",
       "    <tr>\n",
       "      <th>4</th>\n",
       "      <td>POST</td>\n",
       "      <td>2075</td>\n",
       "      <td>45520.86</td>\n",
       "    </tr>\n",
       "    <tr>\n",
       "      <th>5</th>\n",
       "      <td>48138</td>\n",
       "      <td>6303</td>\n",
       "      <td>40961.65</td>\n",
       "    </tr>\n",
       "    <tr>\n",
       "      <th>6</th>\n",
       "      <td>84347</td>\n",
       "      <td>12216</td>\n",
       "      <td>39871.50</td>\n",
       "    </tr>\n",
       "    <tr>\n",
       "      <th>7</th>\n",
       "      <td>21843</td>\n",
       "      <td>3780</td>\n",
       "      <td>38536.54</td>\n",
       "    </tr>\n",
       "    <tr>\n",
       "      <th>8</th>\n",
       "      <td>22086</td>\n",
       "      <td>13816</td>\n",
       "      <td>36804.50</td>\n",
       "    </tr>\n",
       "    <tr>\n",
       "      <th>9</th>\n",
       "      <td>20685</td>\n",
       "      <td>5616</td>\n",
       "      <td>36237.78</td>\n",
       "    </tr>\n",
       "  </tbody>\n",
       "</table>\n",
       "</div>"
      ],
      "text/plain": [
       "  StockCode  Units  Total_Revenue\n",
       "0    85123A  55760      148591.51\n",
       "1     22423  11878      136700.55\n",
       "2    85099B  48629       85065.15\n",
       "3     84879  44000       69652.16\n",
       "4      POST   2075       45520.86\n",
       "5     48138   6303       40961.65\n",
       "6     84347  12216       39871.50\n",
       "7     21843   3780       38536.54\n",
       "8     22086  13816       36804.50\n",
       "9     20685   5616       36237.78"
      ]
     },
     "execution_count": 130,
     "metadata": {},
     "output_type": "execute_result"
    }
   ],
   "source": [
    "Top_Revenue_Summary = df.groupby('StockCode', as_index=False) \\\n",
    "    .agg(Units=('Quantity','sum'),\\\n",
    "         Total_Revenue=('Revenue', 'sum')) \\\n",
    "    .sort_values('Total_Revenue', ascending=False) \\\n",
    "    .reset_index(drop=True).head(10)\n",
    "\n",
    "\n",
    "Top_Revenue_Summary\n"
   ]
  },
  {
   "cell_type": "markdown",
   "id": "13a07fe4",
   "metadata": {},
   "source": [
    "## Identify Top Items By Units Sold "
   ]
  },
  {
   "cell_type": "code",
   "execution_count": 131,
   "id": "195e1bf9",
   "metadata": {},
   "outputs": [
    {
     "data": {
      "text/html": [
       "<div>\n",
       "<style scoped>\n",
       "    .dataframe tbody tr th:only-of-type {\n",
       "        vertical-align: middle;\n",
       "    }\n",
       "\n",
       "    .dataframe tbody tr th {\n",
       "        vertical-align: top;\n",
       "    }\n",
       "\n",
       "    .dataframe thead th {\n",
       "        text-align: right;\n",
       "    }\n",
       "</style>\n",
       "<table border=\"1\" class=\"dataframe\">\n",
       "  <thead>\n",
       "    <tr style=\"text-align: right;\">\n",
       "      <th></th>\n",
       "      <th>StockCode</th>\n",
       "      <th>Units</th>\n",
       "      <th>Total_Revenue</th>\n",
       "    </tr>\n",
       "  </thead>\n",
       "  <tbody>\n",
       "    <tr>\n",
       "      <th>0</th>\n",
       "      <td>21212</td>\n",
       "      <td>56775</td>\n",
       "      <td>27286.78</td>\n",
       "    </tr>\n",
       "    <tr>\n",
       "      <th>1</th>\n",
       "      <td>85123A</td>\n",
       "      <td>55760</td>\n",
       "      <td>148591.51</td>\n",
       "    </tr>\n",
       "    <tr>\n",
       "      <th>2</th>\n",
       "      <td>84077</td>\n",
       "      <td>54130</td>\n",
       "      <td>11184.74</td>\n",
       "    </tr>\n",
       "    <tr>\n",
       "      <th>3</th>\n",
       "      <td>85099B</td>\n",
       "      <td>48629</td>\n",
       "      <td>85065.15</td>\n",
       "    </tr>\n",
       "    <tr>\n",
       "      <th>4</th>\n",
       "      <td>17003</td>\n",
       "      <td>47430</td>\n",
       "      <td>8805.10</td>\n",
       "    </tr>\n",
       "    <tr>\n",
       "      <th>5</th>\n",
       "      <td>84879</td>\n",
       "      <td>44000</td>\n",
       "      <td>69652.16</td>\n",
       "    </tr>\n",
       "    <tr>\n",
       "      <th>6</th>\n",
       "      <td>84991</td>\n",
       "      <td>35480</td>\n",
       "      <td>17344.05</td>\n",
       "    </tr>\n",
       "    <tr>\n",
       "      <th>7</th>\n",
       "      <td>21977</td>\n",
       "      <td>30753</td>\n",
       "      <td>14983.35</td>\n",
       "    </tr>\n",
       "    <tr>\n",
       "      <th>8</th>\n",
       "      <td>22197</td>\n",
       "      <td>28435</td>\n",
       "      <td>21608.49</td>\n",
       "    </tr>\n",
       "    <tr>\n",
       "      <th>9</th>\n",
       "      <td>37410</td>\n",
       "      <td>25679</td>\n",
       "      <td>3012.07</td>\n",
       "    </tr>\n",
       "  </tbody>\n",
       "</table>\n",
       "</div>"
      ],
      "text/plain": [
       "  StockCode  Units  Total_Revenue\n",
       "0     21212  56775       27286.78\n",
       "1    85123A  55760      148591.51\n",
       "2     84077  54130       11184.74\n",
       "3    85099B  48629       85065.15\n",
       "4     17003  47430        8805.10\n",
       "5     84879  44000       69652.16\n",
       "6     84991  35480       17344.05\n",
       "7     21977  30753       14983.35\n",
       "8     22197  28435       21608.49\n",
       "9     37410  25679        3012.07"
      ]
     },
     "execution_count": 131,
     "metadata": {},
     "output_type": "execute_result"
    }
   ],
   "source": [
    "Top_Selling_Summary = df.groupby('StockCode', as_index=False) \\\n",
    "    .agg(Units=('Quantity','sum'),\\\n",
    "         Total_Revenue=('Revenue', 'sum')) \\\n",
    "    .sort_values('Units', ascending=False) \\\n",
    "    .reset_index(drop=True).head(10)\n",
    "\n",
    "\n",
    "Top_Selling_Summary"
   ]
  },
  {
   "cell_type": "markdown",
   "id": "4749e822",
   "metadata": {},
   "source": [
    "## Seasonal Effects on Revenue"
   ]
  },
  {
   "cell_type": "code",
   "execution_count": 132,
   "id": "49de5359",
   "metadata": {},
   "outputs": [
    {
     "data": {
      "image/png": "[encoded data removed]",
      "text/plain": [
       "<Figure size 640x480 with 1 Axes>"
      ]
     },
     "metadata": {},
     "output_type": "display_data"
    }
   ],
   "source": [
    "monthly = (df.resample('ME', on=\"InvoiceDate\") \\\n",
    "            .agg(Units = ('Quantity','sum'), \\\n",
    "            Total_Revenue = ('Revenue', 'sum')) \\\n",
    "            .reset_index())\n",
    "\n",
    "monthly['Month'] = monthly['InvoiceDate'].astype('string').str[:7]\n",
    "\n",
    "ax = monthly.plot(x = 'Month', y = 'Total_Revenue',kind='bar', title=\"Total Revenue Per Month\", ylabel='Revenue', rot=45, )\n",
    "ax.ticklabel_format(style=\"plain\", axis=\"y\")"
   ]
  },
  {
   "cell_type": "markdown",
   "id": "6249fb50",
   "metadata": {},
   "source": [
    "### Who Are Our Top Earners In The Fall Boom"
   ]
  },
  {
   "cell_type": "code",
   "execution_count": 133,
   "id": "9a246dca",
   "metadata": {},
   "outputs": [
    {
     "data": {
      "text/html": [
       "<div>\n",
       "<style scoped>\n",
       "    .dataframe tbody tr th:only-of-type {\n",
       "        vertical-align: middle;\n",
       "    }\n",
       "\n",
       "    .dataframe tbody tr th {\n",
       "        vertical-align: top;\n",
       "    }\n",
       "\n",
       "    .dataframe thead th {\n",
       "        text-align: right;\n",
       "    }\n",
       "</style>\n",
       "<table border=\"1\" class=\"dataframe\">\n",
       "  <thead>\n",
       "    <tr style=\"text-align: right;\">\n",
       "      <th></th>\n",
       "      <th>StockCode</th>\n",
       "      <th>Revenue</th>\n",
       "    </tr>\n",
       "  </thead>\n",
       "  <tbody>\n",
       "    <tr>\n",
       "      <th>0</th>\n",
       "      <td>22423</td>\n",
       "      <td>40469.55</td>\n",
       "    </tr>\n",
       "    <tr>\n",
       "      <th>1</th>\n",
       "      <td>84347</td>\n",
       "      <td>28849.95</td>\n",
       "    </tr>\n",
       "    <tr>\n",
       "      <th>2</th>\n",
       "      <td>85123A</td>\n",
       "      <td>27871.73</td>\n",
       "    </tr>\n",
       "    <tr>\n",
       "      <th>3</th>\n",
       "      <td>84879</td>\n",
       "      <td>23013.79</td>\n",
       "    </tr>\n",
       "    <tr>\n",
       "      <th>4</th>\n",
       "      <td>22086</td>\n",
       "      <td>21055.15</td>\n",
       "    </tr>\n",
       "    <tr>\n",
       "      <th>5</th>\n",
       "      <td>85099B</td>\n",
       "      <td>18148.05</td>\n",
       "    </tr>\n",
       "    <tr>\n",
       "      <th>6</th>\n",
       "      <td>22910</td>\n",
       "      <td>14872.95</td>\n",
       "    </tr>\n",
       "    <tr>\n",
       "      <th>7</th>\n",
       "      <td>POST</td>\n",
       "      <td>14306.60</td>\n",
       "    </tr>\n",
       "    <tr>\n",
       "      <th>8</th>\n",
       "      <td>22112</td>\n",
       "      <td>10790.40</td>\n",
       "    </tr>\n",
       "    <tr>\n",
       "      <th>9</th>\n",
       "      <td>79321</td>\n",
       "      <td>10649.44</td>\n",
       "    </tr>\n",
       "  </tbody>\n",
       "</table>\n",
       "</div>"
      ],
      "text/plain": [
       "  StockCode   Revenue\n",
       "0     22423  40469.55\n",
       "1     84347  28849.95\n",
       "2    85123A  27871.73\n",
       "3     84879  23013.79\n",
       "4     22086  21055.15\n",
       "5    85099B  18148.05\n",
       "6     22910  14872.95\n",
       "7      POST  14306.60\n",
       "8     22112  10790.40\n",
       "9     79321  10649.44"
      ]
     },
     "execution_count": 133,
     "metadata": {},
     "output_type": "execute_result"
    }
   ],
   "source": [
    "df[df['InvoiceDate'].dt.month.isin([10,11])] \\\n",
    "    .groupby('StockCode', as_index=False) \\\n",
    "    .agg(Revenue = ('Revenue', 'sum')) \\\n",
    "    .sort_values('Revenue', ascending=False) \\\n",
    "    .head(10).reset_index(drop=True)"
   ]
  },
  {
   "cell_type": "markdown",
   "id": "76ec2c91",
   "metadata": {},
   "source": [
    "### VS The Year Round Top Earners During This Period"
   ]
  },
  {
   "cell_type": "code",
   "execution_count": 134,
   "id": "516bfbc9",
   "metadata": {},
   "outputs": [
    {
     "data": {
      "text/html": [
       "<div>\n",
       "<style scoped>\n",
       "    .dataframe tbody tr th:only-of-type {\n",
       "        vertical-align: middle;\n",
       "    }\n",
       "\n",
       "    .dataframe tbody tr th {\n",
       "        vertical-align: top;\n",
       "    }\n",
       "\n",
       "    .dataframe thead th {\n",
       "        text-align: right;\n",
       "    }\n",
       "</style>\n",
       "<table border=\"1\" class=\"dataframe\">\n",
       "  <thead>\n",
       "    <tr style=\"text-align: right;\">\n",
       "      <th></th>\n",
       "      <th>StockCode</th>\n",
       "      <th>Revenue</th>\n",
       "    </tr>\n",
       "  </thead>\n",
       "  <tbody>\n",
       "    <tr>\n",
       "      <th>0</th>\n",
       "      <td>22423</td>\n",
       "      <td>40469.55</td>\n",
       "    </tr>\n",
       "    <tr>\n",
       "      <th>1</th>\n",
       "      <td>84347</td>\n",
       "      <td>28849.95</td>\n",
       "    </tr>\n",
       "    <tr>\n",
       "      <th>2</th>\n",
       "      <td>85123A</td>\n",
       "      <td>27871.73</td>\n",
       "    </tr>\n",
       "    <tr>\n",
       "      <th>3</th>\n",
       "      <td>84879</td>\n",
       "      <td>23013.79</td>\n",
       "    </tr>\n",
       "    <tr>\n",
       "      <th>4</th>\n",
       "      <td>22086</td>\n",
       "      <td>21055.15</td>\n",
       "    </tr>\n",
       "    <tr>\n",
       "      <th>5</th>\n",
       "      <td>85099B</td>\n",
       "      <td>18148.05</td>\n",
       "    </tr>\n",
       "    <tr>\n",
       "      <th>6</th>\n",
       "      <td>POST</td>\n",
       "      <td>14306.60</td>\n",
       "    </tr>\n",
       "    <tr>\n",
       "      <th>7</th>\n",
       "      <td>48138</td>\n",
       "      <td>6891.59</td>\n",
       "    </tr>\n",
       "    <tr>\n",
       "      <th>8</th>\n",
       "      <td>20685</td>\n",
       "      <td>6024.13</td>\n",
       "    </tr>\n",
       "    <tr>\n",
       "      <th>9</th>\n",
       "      <td>21843</td>\n",
       "      <td>5043.35</td>\n",
       "    </tr>\n",
       "  </tbody>\n",
       "</table>\n",
       "</div>"
      ],
      "text/plain": [
       "  StockCode   Revenue\n",
       "0     22423  40469.55\n",
       "1     84347  28849.95\n",
       "2    85123A  27871.73\n",
       "3     84879  23013.79\n",
       "4     22086  21055.15\n",
       "5    85099B  18148.05\n",
       "6      POST  14306.60\n",
       "7     48138   6891.59\n",
       "8     20685   6024.13\n",
       "9     21843   5043.35"
      ]
     },
     "execution_count": 134,
     "metadata": {},
     "output_type": "execute_result"
    }
   ],
   "source": [
    "Top_Revenue_df = df[df['StockCode'].isin(Top_Revenue_Summary['StockCode'])]\n",
    "\n",
    "fall_top_rev = Top_Revenue_df[Top_Revenue_df['InvoiceDate'].dt.month.isin([10,11])].copy()\n",
    "\n",
    "fall_top_rev.groupby('StockCode', as_index=False) \\\n",
    "    .agg(Revenue = ('Revenue','sum')) \\\n",
    "    .sort_values('Revenue', ascending=False) \\\n",
    "    .reset_index(drop=True).head(10)"
   ]
  },
  {
   "cell_type": "markdown",
   "id": "a27a913a",
   "metadata": {},
   "source": [
    "## Seasonal Effects on Sales"
   ]
  },
  {
   "cell_type": "code",
   "execution_count": 135,
   "id": "2472a36a",
   "metadata": {},
   "outputs": [
    {
     "data": {
      "image/png": "[encoded data removed]",
      "text/plain": [
       "<Figure size 640x480 with 1 Axes>"
      ]
     },
     "metadata": {},
     "output_type": "display_data"
    }
   ],
   "source": [
    "ax = monthly.plot(x = 'Month', y = 'Units',kind='bar', title=\"Total Units Sold Per Month\", ylabel='Units Sold', rot=45, )\n",
    "ax.ticklabel_format(style=\"plain\", axis=\"y\")"
   ]
  },
  {
   "cell_type": "markdown",
   "id": "f3ab38e3",
   "metadata": {},
   "source": [
    "### Who Are Our Best Sellers In The Fall Boom"
   ]
  },
  {
   "cell_type": "code",
   "execution_count": 136,
   "id": "09898425",
   "metadata": {},
   "outputs": [
    {
     "data": {
      "text/html": [
       "<div>\n",
       "<style scoped>\n",
       "    .dataframe tbody tr th:only-of-type {\n",
       "        vertical-align: middle;\n",
       "    }\n",
       "\n",
       "    .dataframe tbody tr th {\n",
       "        vertical-align: top;\n",
       "    }\n",
       "\n",
       "    .dataframe thead th {\n",
       "        text-align: right;\n",
       "    }\n",
       "</style>\n",
       "<table border=\"1\" class=\"dataframe\">\n",
       "  <thead>\n",
       "    <tr style=\"text-align: right;\">\n",
       "      <th></th>\n",
       "      <th>StockCode</th>\n",
       "      <th>Units</th>\n",
       "    </tr>\n",
       "  </thead>\n",
       "  <tbody>\n",
       "    <tr>\n",
       "      <th>0</th>\n",
       "      <td>17003</td>\n",
       "      <td>16678</td>\n",
       "    </tr>\n",
       "    <tr>\n",
       "      <th>1</th>\n",
       "      <td>84077</td>\n",
       "      <td>15123</td>\n",
       "    </tr>\n",
       "    <tr>\n",
       "      <th>2</th>\n",
       "      <td>84879</td>\n",
       "      <td>14731</td>\n",
       "    </tr>\n",
       "    <tr>\n",
       "      <th>3</th>\n",
       "      <td>21212</td>\n",
       "      <td>11626</td>\n",
       "    </tr>\n",
       "    <tr>\n",
       "      <th>4</th>\n",
       "      <td>22197</td>\n",
       "      <td>11240</td>\n",
       "    </tr>\n",
       "    <tr>\n",
       "      <th>5</th>\n",
       "      <td>85099B</td>\n",
       "      <td>10395</td>\n",
       "    </tr>\n",
       "    <tr>\n",
       "      <th>6</th>\n",
       "      <td>85123A</td>\n",
       "      <td>10348</td>\n",
       "    </tr>\n",
       "    <tr>\n",
       "      <th>7</th>\n",
       "      <td>21977</td>\n",
       "      <td>6024</td>\n",
       "    </tr>\n",
       "    <tr>\n",
       "      <th>8</th>\n",
       "      <td>84991</td>\n",
       "      <td>5460</td>\n",
       "    </tr>\n",
       "  </tbody>\n",
       "</table>\n",
       "</div>"
      ],
      "text/plain": [
       "  StockCode  Units\n",
       "0     17003  16678\n",
       "1     84077  15123\n",
       "2     84879  14731\n",
       "3     21212  11626\n",
       "4     22197  11240\n",
       "5    85099B  10395\n",
       "6    85123A  10348\n",
       "7     21977   6024\n",
       "8     84991   5460"
      ]
     },
     "execution_count": 136,
     "metadata": {},
     "output_type": "execute_result"
    }
   ],
   "source": [
    "Top_Selling_df = df[df['StockCode'].isin(Top_Selling_Summary['StockCode'])]\n",
    "\n",
    "fall_top_sell = Top_Selling_df[Top_Selling_df['InvoiceDate'].dt.month.isin([10,11])].copy()\n",
    "\n",
    "fall_top_sell.groupby('StockCode', as_index=False) \\\n",
    "    .agg(Units = ('Quantity','sum')) \\\n",
    "    .sort_values('Units', ascending=False) \\\n",
    "    .reset_index(drop=True).head(10)"
   ]
  },
  {
   "cell_type": "markdown",
   "id": "6c7da92b",
   "metadata": {},
   "source": [
    "### The Year Round Top Sellers During This Period"
   ]
  },
  {
   "cell_type": "code",
   "execution_count": 137,
   "id": "516f5576",
   "metadata": {},
   "outputs": [
    {
     "data": {
      "text/html": [
       "<div>\n",
       "<style scoped>\n",
       "    .dataframe tbody tr th:only-of-type {\n",
       "        vertical-align: middle;\n",
       "    }\n",
       "\n",
       "    .dataframe tbody tr th {\n",
       "        vertical-align: top;\n",
       "    }\n",
       "\n",
       "    .dataframe thead th {\n",
       "        text-align: right;\n",
       "    }\n",
       "</style>\n",
       "<table border=\"1\" class=\"dataframe\">\n",
       "  <thead>\n",
       "    <tr style=\"text-align: right;\">\n",
       "      <th></th>\n",
       "      <th>StockCode</th>\n",
       "      <th>Units</th>\n",
       "    </tr>\n",
       "  </thead>\n",
       "  <tbody>\n",
       "    <tr>\n",
       "      <th>0</th>\n",
       "      <td>17003</td>\n",
       "      <td>16678</td>\n",
       "    </tr>\n",
       "    <tr>\n",
       "      <th>1</th>\n",
       "      <td>84347</td>\n",
       "      <td>15989</td>\n",
       "    </tr>\n",
       "    <tr>\n",
       "      <th>2</th>\n",
       "      <td>84077</td>\n",
       "      <td>15123</td>\n",
       "    </tr>\n",
       "    <tr>\n",
       "      <th>3</th>\n",
       "      <td>84879</td>\n",
       "      <td>14731</td>\n",
       "    </tr>\n",
       "    <tr>\n",
       "      <th>4</th>\n",
       "      <td>21212</td>\n",
       "      <td>11626</td>\n",
       "    </tr>\n",
       "    <tr>\n",
       "      <th>5</th>\n",
       "      <td>22197</td>\n",
       "      <td>11240</td>\n",
       "    </tr>\n",
       "    <tr>\n",
       "      <th>6</th>\n",
       "      <td>22952</td>\n",
       "      <td>10788</td>\n",
       "    </tr>\n",
       "    <tr>\n",
       "      <th>7</th>\n",
       "      <td>85099B</td>\n",
       "      <td>10395</td>\n",
       "    </tr>\n",
       "    <tr>\n",
       "      <th>8</th>\n",
       "      <td>85123A</td>\n",
       "      <td>10348</td>\n",
       "    </tr>\n",
       "    <tr>\n",
       "      <th>9</th>\n",
       "      <td>84568</td>\n",
       "      <td>8352</td>\n",
       "    </tr>\n",
       "  </tbody>\n",
       "</table>\n",
       "</div>"
      ],
      "text/plain": [
       "  StockCode  Units\n",
       "0     17003  16678\n",
       "1     84347  15989\n",
       "2     84077  15123\n",
       "3     84879  14731\n",
       "4     21212  11626\n",
       "5     22197  11240\n",
       "6     22952  10788\n",
       "7    85099B  10395\n",
       "8    85123A  10348\n",
       "9     84568   8352"
      ]
     },
     "execution_count": 137,
     "metadata": {},
     "output_type": "execute_result"
    }
   ],
   "source": [
    "df[df['InvoiceDate'].dt.month.isin([10,11])] \\\n",
    "    .groupby('StockCode', as_index=False) \\\n",
    "    .agg(Units = ('Quantity', 'sum')) \\\n",
    "    .sort_values('Units', ascending=False) \\\n",
    "    .reset_index(drop=True).head(10)"
   ]
  },
  {
   "cell_type": "markdown",
   "id": "fd4eb374",
   "metadata": {},
   "source": [
    "## Exporting Data"
   ]
  },
  {
   "cell_type": "code",
   "execution_count": 138,
   "id": "92655343",
   "metadata": {},
   "outputs": [],
   "source": [
    "df.to_csv('../Pandas_Tableau_Project/Online_Retail_II_Cleaned.csv', index = False)"
   ]
  }
 ],
 "metadata": {
  "kernelspec": {
   "display_name": ".venv",
   "language": "python",
   "name": "python3"
  },
  "language_info": {
   "codemirror_mode": {
    "name": "ipython",
    "version": 3
   },
   "file_extension": ".py",
   "mimetype": "text/x-python",
   "name": "python",
   "nbconvert_exporter": "python",
   "pygments_lexer": "ipython3",
   "version": "3.13.2"
  }
 },
 "nbformat": 4,
 "nbformat_minor": 5
}
